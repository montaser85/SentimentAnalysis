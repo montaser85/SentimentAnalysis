{
 "cells": [
  {
   "cell_type": "code",
   "execution_count": 1,
   "metadata": {},
   "outputs": [],
   "source": [
    "from sklearn.feature_extraction.text import CountVectorizer"
   ]
  },
  {
   "cell_type": "code",
   "execution_count": 2,
   "metadata": {},
   "outputs": [],
   "source": [
    "import csv\n",
    "\n",
    "with open('AppReview.csv',encoding='utf-8') as csvfile:\n",
    "    readCSV = csv.reader(csvfile, delimiter=',')\n",
    "        \n",
    "\n",
    "    reviews = []\n",
    "    labels = []\n",
    "    row=1\n",
    "    for row in readCSV:\n",
    "        review = row[1]\n",
    "        label = row[2]\n",
    "\n",
    "        reviews.append(review)\n",
    "        labels.append(label)\n"
   ]
  },
  {
   "cell_type": "code",
   "execution_count": 3,
   "metadata": {},
   "outputs": [],
   "source": [
    "vectorizer = CountVectorizer(analyzer = 'word',\n",
    "                             lowercase = False, )\n",
    "#data=reviews\n",
    "#data_labels=labels\n",
    "\n",
    "features = vectorizer.fit_transform(reviews)\n",
    "\n",
    "features_nd = features.toarray() # for easy usage"
   ]
  },
  {
   "cell_type": "code",
   "execution_count": 4,
   "metadata": {},
   "outputs": [
    {
     "name": "stderr",
     "output_type": "stream",
     "text": [
      "/home/neetu/anaconda3/lib/python3.7/site-packages/sklearn/model_selection/_split.py:2179: FutureWarning: From version 0.21, test_size will always complement train_size unless both are specified.\n",
      "  FutureWarning)\n"
     ]
    }
   ],
   "source": [
    "from sklearn.model_selection import train_test_split\n",
    "\n",
    "X_train, X_test, y_train, y_test  = train_test_split(\n",
    "        features_nd, \n",
    "        labels,\n",
    "        train_size=0.80, \n",
    "        random_state=1234)"
   ]
  },
  {
   "cell_type": "code",
   "execution_count": 5,
   "metadata": {},
   "outputs": [],
   "source": [
    "from sklearn import svm\n",
    "svmModule=svm.SVC(C=1.0, kernel='linear', degree=3, gamma='auto_deprecated', \n",
    "    coef0=0.0, shrinking=True, probability=False, tol=0.001, cache_size=200, \n",
    "    class_weight=None, verbose=False, max_iter=-1, decision_function_shape='ovr', \n",
    "    random_state=None)"
   ]
  },
  {
   "cell_type": "code",
   "execution_count": 6,
   "metadata": {},
   "outputs": [],
   "source": [
    "svm_Module = svmModule.fit(X_train, y_train)"
   ]
  },
  {
   "cell_type": "code",
   "execution_count": 7,
   "metadata": {},
   "outputs": [
    {
     "name": "stdout",
     "output_type": "stream",
     "text": [
      "['0' '1' '1' '1' '0' '1' '0' '1' '1' '1' '1' '1' '0' '1' '0' '0' '0' '0'\n",
      " '0' '1' '1' '1' '0' '0' '0' '1' '0' '1' '0' '0' '0' '0' '0' '1' '0' '1'\n",
      " '0' '1' '1' '0' '1' '0' '1' '0' '0' '0' '0' '0' '0' '1' '0' '1' '1' '1'\n",
      " '0' '0' '1' '1' '0' '0' '1' '0' '1' '1' '1' '0' '0' '1' '0' '0' '0' '0'\n",
      " '1' '1' '0' '1' '1' '0' '0' '0' '1' '0' '1' '1' '0' '1' '1' '1' '0' '1'\n",
      " '0' '1' '0' '0' '0' '1' '0' '0' '1' '1' '0' '1' '1' '1' '0' '0' '1' '0'\n",
      " '1' '1' '0' '1' '1' '1' '1' '1' '0' '0' '1' '0' '0' '1' '0' '0' '0' '0'\n",
      " '0' '0' '1' '0' '1' '1' '1' '1' '0' '1' '1' '1' '1' '0' '1' '0' '0' '0'\n",
      " '0' '0' '1' '0' '1' '0' '1' '1' '0' '1' '0' '1' '1' '1' '1' '0' '0' '1'\n",
      " '0' '0' '0' '1' '0' '0' '0' '0' '0' '1' '0' '0' '1' '1' '1' '0' '0' '1'\n",
      " '0' '0' '0' '1' '1' '0' '0' '0' '1' '1' '0' '0' '1' '0' '1' '1' '1' '1'\n",
      " '0' '1' '1' '0' '0' '1' '1' '1' '1' '1' '1' '1' '1' '1' '0' '1' '0' '0'\n",
      " '1' '0' '1' '0' '1' '0' '0' '1' '1' '0' '0' '0' '1' '0' '0' '0' '0' '0'\n",
      " '1' '0' '0' '0' '1' '0' '1' '0' '1' '1' '0' '1' '1' '1' '0' '1' '1' '0'\n",
      " '0' '0' '0' '0' '0' '0' '1' '0' '1' '1' '1' '1' '0' '1' '0' '1' '0' '1'\n",
      " '0' '0' '0' '1' '0' '0' '0' '0' '1' '1' '1' '1' '1' '0' '0' '1' '1' '1'\n",
      " '0' '1' '0' '0' '1' '1' '0' '0' '1' '1' '0' '1' '0' '1' '1' '0' '0' '0'\n",
      " '0' '1' '1' '1' '0' '1' '0' '1' '0' '0' '1' '0' '0' '1' '1' '0' '0' '0'\n",
      " '0' '1' '1' '0' '0' '1' '0' '1' '0' '1' '0' '1' '1' '1' '0' '0' '0' '1'\n",
      " '1' '1' '1' '1' '1' '1' '0' '0' '1' '1' '1' '1' '1' '0' '0' '1' '1' '0'\n",
      " '0' '0' '0' '0' '1' '1' '0' '0' '0' '0' '1' '1' '1' '0' '0' '1' '0' '0'\n",
      " '1' '1' '0' '1' '0' '0' '0' '0' '1' '0' '1' '1' '1' '1' '1' '1' '0' '1'\n",
      " '1' '0' '0' '0' '1']\n",
      "['0', '0', '0', '1', '0', '1', '0', '1', '1', '1', '1', '1', '0', '0', '0', '0', '1', '1', '1', '1', '0', '1', '0', '1', '1', '1', '0', '1', '0', '0', '1', '0', '0', '0', '1', '0', '0', '1', '0', '0', '1', '0', '1', '1', '0', '0', '0', '0', '0', '1', '0', '1', '1', '1', '0', '0', '1', '0', '0', '0', '1', '0', '1', '1', '1', '0', '0', '1', '0', '0', '0', '0', '1', '0', '0', '0', '1', '1', '0', '0', '1', '0', '1', '1', '0', '1', '1', '1', '0', '1', '1', '1', '0', '0', '0', '1', '1', '0', '1', '1', '0', '1', '1', '1', '0', '0', '1', '0', '1', '1', '0', '0', '1', '0', '1', '0', '0', '1', '1', '1', '1', '0', '1', '0', '0', '0', '0', '1', '1', '1', '1', '0', '1', '1', '0', '1', '0', '1', '1', '1', '1', '1', '1', '1', '0', '0', '1', '0', '1', '1', '1', '1', '0', '1', '0', '1', '1', '1', '1', '0', '0', '1', '1', '0', '0', '1', '0', '0', '0', '0', '0', '1', '0', '0', '1', '1', '1', '0', '1', '1', '0', '0', '0', '1', '1', '1', '0', '1', '0', '1', '0', '0', '1', '1', '0', '1', '0', '1', '1', '0', '1', '1', '0', '0', '1', '0', '1', '1', '1', '1', '1', '1', '0', '0', '0', '0', '1', '0', '0', '0', '1', '0', '1', '1', '1', '0', '0', '0', '1', '0', '0', '0', '0', '0', '1', '0', '0', '0', '1', '0', '1', '0', '1', '0', '0', '0', '0', '1', '0', '1', '1', '0', '0', '1', '0', '1', '0', '1', '1', '0', '1', '1', '1', '1', '1', '0', '0', '1', '0', '1', '0', '1', '0', '0', '0', '0', '1', '0', '0', '1', '0', '1', '0', '0', '1', '1', '1', '1', '0', '0', '0', '0', '1', '0', '0', '0', '0', '1', '1', '0', '0', '0', '0', '1', '0', '1', '0', '1', '1', '0', '1', '1', '0', '1', '0', '0', '1', '1', '0', '1', '1', '0', '1', '0', '0', '1', '1', '0', '0', '1', '0', '0', '0', '0', '1', '1', '0', '1', '0', '1', '1', '1', '1', '1', '1', '1', '1', '0', '0', '0', '1', '1', '1', '1', '0', '1', '1', '1', '1', '1', '1', '1', '0', '0', '1', '0', '0', '0', '0', '0', '1', '1', '1', '1', '0', '1', '0', '0', '0', '1', '1', '1', '1', '1', '0', '1', '1', '0', '1', '1', '1', '1', '1', '1', '0', '1', '1', '1', '0', '0', '1']\n"
     ]
    }
   ],
   "source": [
    "y_pred = svm_Module.predict(X_test)\n",
    "\n",
    "print(y_pred)\n",
    "print (y_test)"
   ]
  },
  {
   "cell_type": "code",
   "execution_count": 8,
   "metadata": {},
   "outputs": [
    {
     "name": "stdout",
     "output_type": "stream",
     "text": [
      "Accuracy: 0.743142144638404\n"
     ]
    }
   ],
   "source": [
    "from sklearn import metrics\n",
    "print(\"Accuracy:\",metrics.accuracy_score(y_test, y_pred))"
   ]
  },
  {
   "cell_type": "code",
   "execution_count": null,
   "metadata": {},
   "outputs": [],
   "source": []
  }
 ],
 "metadata": {
  "kernelspec": {
   "display_name": "Python 3",
   "language": "python",
   "name": "python3"
  },
  "language_info": {
   "codemirror_mode": {
    "name": "ipython",
    "version": 3
   },
   "file_extension": ".py",
   "mimetype": "text/x-python",
   "name": "python",
   "nbconvert_exporter": "python",
   "pygments_lexer": "ipython3",
   "version": "3.7.1"
  }
 },
 "nbformat": 4,
 "nbformat_minor": 2
}
